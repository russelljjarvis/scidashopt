{
 "cells": [
  {
   "cell_type": "code",
   "execution_count": 1,
   "metadata": {},
   "outputs": [
    {
     "name": "stdout",
     "output_type": "stream",
     "text": [
      "sytactic error in NEURON\n",
      "sytactic error in OTHERBackend\n",
      "{'': <class 'neuronunit.models.backends.base.Backend'>, 'jNeuroML': <class 'neuronunit.models.backends.jNeuroML.jNeuroMLBackend'>, 'pyNN': <class 'neuronunit.models.backends.pyNN.pyNNBackend'>}\n",
      "<class 'neuronunit.models.backends.pyNN.pyNNBackend'>\n",
      "OrderedDict([('C', array([ 0.002  ,  0.00425,  0.0065 ,  0.00875,  0.011  ,  0.01325,\n",
      "        0.0155 ,  0.01775,  0.02   ])), ('k', array([  2.50000000e-05,   4.18750000e-05,   5.87500000e-05,\n",
      "         7.56250000e-05,   9.25000000e-05,   1.09375000e-04,\n",
      "         1.26250000e-04,   1.43125000e-04,   1.60000000e-04])), ('vr', array([-75. , -72.5, -70. , -67.5, -65. , -62.5, -60. , -57.5, -55. ])), ('vt', array([-50.  , -48.75, -47.5 , -46.25, -45.  , -43.75, -42.5 , -41.25, -40.  ])), ('vpeak', array([  0.  ,   6.25,  12.5 ,  18.75,  25.  ,  31.25,  37.5 ,  43.75,  50.  ])), ('a', array([  1.00000000e-06,   3.37500000e-06,   5.75000000e-06,\n",
      "         8.12500000e-06,   1.05000000e-05,   1.28750000e-05,\n",
      "         1.52500000e-05,   1.76250000e-05,   2.00000000e-05])), ('b', array([ -2.00000000e-04,   1.25000000e-05,   2.25000000e-04,\n",
      "         4.37500000e-04,   6.50000000e-04,   8.62500000e-04,\n",
      "         1.07500000e-03,   1.28750000e-03,   1.50000000e-03])), ('c', array([-60. , -57.5, -55. , -52.5, -50. , -47.5, -45. , -42.5, -40. ])), ('d', array([-0.0055   , -0.0029375, -0.000375 ,  0.0021875,  0.00475  ,\n",
      "        0.0073125,  0.009875 ,  0.0124375,  0.015    ]))])\n"
     ]
    }
   ],
   "source": [
    "from neuronunit.models.reduced import ReducedModel\n",
    "from neuronunit.models import ExternalModel\n",
    "\n",
    "\n",
    "from neuronunit.optimization.model_parameters import model_params, path_params\n",
    "from neuronunit.optimization import model_parameters as modelp\n",
    "mp = modelp.model_params\n",
    "import pdb\n",
    "from neuronunit.optimization.data_transport_container import DataTC\n",
    "dtc = DataTC()\n",
    "from neuronunit.tests import np, pq, cap, VmTest, scores, AMPL, DELAY, DURATION\n",
    "from neuronunit.models.backends import pyNN\n",
    "try:\n",
    "    import lazyarray\n",
    "    import mpi4py\n",
    "except:\n",
    "    !pip install lazyarray\n",
    "    !pip install mpi4py\n",
    "    import lazyarray\n",
    "    \n",
    "    \n",
    "import matplotlib.pyplot as plt\n",
    "def plot(vm,plt):\n",
    "    #vm = model.get_membrane_potential()\n",
    "    times = vm.times\n",
    "    #if hasattr(vm,'trace'):\n",
    "    #   vm = vmpy.as_array()\n",
    "    plt.plot(times,vm)\n",
    "    plt.xlabel('ms')\n",
    "    plt.ylabel('mV')\n",
    "    #plt\n",
    "    return plt\n",
    "\n",
    "    \n",
    "    #import mpi4py\n",
    "#opt_keys = ['a','b','vr']\n",
    "#nparams = len(opt_keys)\n",
    "#import numpy as np\n",
    "#attrs = {'a':np.median(mp['a']), 'b':np.median(mp['b']), 'vr':np.median(mp['vr']),'vt':np.median(mp['vt'])}\n",
    "# http://www.physics.usyd.edu.au/teach_res/mp/ns/doc/nsIzhikevich3.htm\n",
    "#C = 100; vr = -60; vt = -40; k = 0.7;   % parameters used for RS\n",
    "#a = 0.03; b = -2; c = -50; d = 100;     % neocortical pyramidal neurons\n",
    "#vPeak = 35;    \n",
    "#dir(pyNN.neuron.StepCurrentSource)\n",
    "#help(pyNN.neuron.StepCurrentSource)\n"
   ]
  },
  {
   "cell_type": "code",
   "execution_count": 2,
   "metadata": {},
   "outputs": [
    {
     "name": "stdout",
     "output_type": "stream",
     "text": [
      "<class 'neuronunit.models.backends.izhi2007Wrapper.IzhiCell'>\n",
      "['IzhiCell', '__builtins__', '__cached__', '__doc__', '__file__', '__loader__', '__name__', '__package__', '__spec__', 'collections', 'dummy', 'h', 'subprocess', 'type2007']\n"
     ]
    },
    {
     "ename": "AttributeError",
     "evalue": "'hoc.HocObject' object has no attribute 'Izhi2007'",
     "output_type": "error",
     "traceback": [
      "\u001b[0;31m---------------------------------------------------------------------------\u001b[0m",
      "\u001b[0;31mAttributeError\u001b[0m                            Traceback (most recent call last)",
      "\u001b[0;32m<ipython-input-2-495bfd9ba9fd>\u001b[0m in \u001b[0;36m<module>\u001b[0;34m()\u001b[0m\n\u001b[1;32m     32\u001b[0m \u001b[0mfih\u001b[0m \u001b[0;34m=\u001b[0m \u001b[0;34m[\u001b[0m\u001b[0;34m]\u001b[0m\u001b[0;34m\u001b[0m\u001b[0m\n\u001b[1;32m     33\u001b[0m \u001b[0;32mfrom\u001b[0m \u001b[0mneuronunit\u001b[0m\u001b[0;34m.\u001b[0m\u001b[0mmodels\u001b[0m\u001b[0;34m.\u001b[0m\u001b[0mbackends\u001b[0m\u001b[0;34m.\u001b[0m\u001b[0mizhi2007Wrapper\u001b[0m \u001b[0;32mimport\u001b[0m \u001b[0mIzhiCell\u001b[0m\u001b[0;34m\u001b[0m\u001b[0m\n\u001b[0;32m---> 34\u001b[0;31m \u001b[0mcell\u001b[0m \u001b[0;34m=\u001b[0m \u001b[0mIzhiCell\u001b[0m\u001b[0;34m(\u001b[0m\u001b[0;34m)\u001b[0m\u001b[0;34m\u001b[0m\u001b[0m\n\u001b[0m\u001b[1;32m     35\u001b[0m \u001b[0;34m\u001b[0m\u001b[0m\n\u001b[1;32m     36\u001b[0m \u001b[0mmodel\u001b[0m \u001b[0;34m=\u001b[0m \u001b[0mizh07\u001b[0m\u001b[0;34m.\u001b[0m\u001b[0mIzhiCell\u001b[0m\u001b[0;34m(\u001b[0m\u001b[0;34m)\u001b[0m\u001b[0;34m\u001b[0m\u001b[0m\n",
      "\u001b[0;32m~/neuronunit/neuronunit/models/backends/izhi2007Wrapper.py\u001b[0m in \u001b[0;36m__init__\u001b[0;34m(self, type, host, cellid)\u001b[0m\n\u001b[1;32m     57\u001b[0m         \u001b[0mself\u001b[0m\u001b[0;34m.\u001b[0m\u001b[0msec\u001b[0m\u001b[0;34m=\u001b[0m\u001b[0mh\u001b[0m\u001b[0;34m.\u001b[0m\u001b[0mSection\u001b[0m\u001b[0;34m(\u001b[0m\u001b[0mname\u001b[0m\u001b[0;34m=\u001b[0m\u001b[0;34m'izhi2007'\u001b[0m\u001b[0;34m)\u001b[0m\u001b[0;34m\u001b[0m\u001b[0m\n\u001b[1;32m     58\u001b[0m         \u001b[0mself\u001b[0m\u001b[0;34m.\u001b[0m\u001b[0msec\u001b[0m\u001b[0;34m.\u001b[0m\u001b[0mL\u001b[0m\u001b[0;34m,\u001b[0m \u001b[0mself\u001b[0m\u001b[0;34m.\u001b[0m\u001b[0msec\u001b[0m\u001b[0;34m.\u001b[0m\u001b[0mdiam\u001b[0m \u001b[0;34m=\u001b[0m \u001b[0;36m6.3\u001b[0m\u001b[0;34m,\u001b[0m \u001b[0;36m5\u001b[0m \u001b[0;31m# empirically tuned\u001b[0m\u001b[0;34m\u001b[0m\u001b[0m\n\u001b[0;32m---> 59\u001b[0;31m         \u001b[0mself\u001b[0m\u001b[0;34m.\u001b[0m\u001b[0mizh\u001b[0m \u001b[0;34m=\u001b[0m \u001b[0mh\u001b[0m\u001b[0;34m.\u001b[0m\u001b[0mIzhi2007\u001b[0m\u001b[0;34m(\u001b[0m\u001b[0;36m0.5\u001b[0m\u001b[0;34m,\u001b[0m \u001b[0msec\u001b[0m\u001b[0;34m=\u001b[0m\u001b[0mself\u001b[0m\u001b[0;34m.\u001b[0m\u001b[0msec\u001b[0m\u001b[0;34m)\u001b[0m\u001b[0;34m\u001b[0m\u001b[0m\n\u001b[0m\u001b[1;32m     60\u001b[0m         \u001b[0mself\u001b[0m\u001b[0;34m.\u001b[0m\u001b[0mvinit\u001b[0m \u001b[0;34m=\u001b[0m \u001b[0;34m-\u001b[0m\u001b[0;36m60\u001b[0m\u001b[0;34m\u001b[0m\u001b[0m\n\u001b[1;32m     61\u001b[0m \u001b[0;34m\u001b[0m\u001b[0m\n",
      "\u001b[0;31mAttributeError\u001b[0m: 'hoc.HocObject' object has no attribute 'Izhi2007'"
     ]
    }
   ],
   "source": [
    "#from .base import *\n",
    "import math\n",
    "import pdb\n",
    "import sys\n",
    "from neuron import h\n",
    "import os, subprocess\n",
    "#os.system('nrnivmodl')\n",
    "\n",
    "\n",
    "import collections\n",
    "from neuron import h\n",
    "dummy = h.Section()\n",
    "type2007 = collections.OrderedDict([\n",
    "  #              C    k     vr  vt vpeak   a      b   c    d  celltype\n",
    "  ('RS',        (100, 0.7,  -60, -40, 35, 0.03,   -2, -50,  100,  1)),\n",
    "  ('IB',        (150, 1.2,  -75, -45, 50, 0.01,   5, -56,  130,   2)),\n",
    "  ('CH',        (50,  1.5,  -60, -40, 25, 0.03,   1, -40,  150,   3)),\n",
    "  ('LTS',       (100, 1.0,  -56, -42, 40, 0.03,   8, -53,   20,   4)),\n",
    "  ('FS',        (20,  1.0,  -55, -40, 25, 0.2,   -2, -45,  -55,   5)),\n",
    "  ('TC',        (200, 1.6,  -60, -50, 35, 0.01,  15, -60,   10,   6)),\n",
    "  ('TC_burst',  (200, 1.6,  -60, -50, 35, 0.01,  15, -60,   10,   6)),\n",
    "  ('RTN',       (40,  0.25, -65, -45,  0, 0.015, 10, -55,   50,   7)),\n",
    "  ('RTN_burst', (40,  0.25, -65, -45,  0, 0.015, 10, -55,   50,   7))])\n",
    "\n",
    "\n",
    "from neuron import h\n",
    "import numpy as np\n",
    "from neuronunit.models.backends import izhi2007Wrapper as izh07\n",
    "print(dir(izh07))\n",
    "import pylab as plt\n",
    "import pprint as pp\n",
    "fih = []\n",
    "from neuronunit.models.backends.izhi2007Wrapper import IzhiCell\n",
    "cell = IzhiCell()\n",
    "\n",
    "model = izh07.IzhiCell()\n",
    "ex_model = ExternalModel(model)\n"
   ]
  },
  {
   "cell_type": "code",
   "execution_count": null,
   "metadata": {},
   "outputs": [],
   "source": [
    "print(dir(izh07))\n",
    "print(izh07)\n",
    "#stuff = [v[0] for v in vm]\n",
    "#print(stuff[-1])\n"
   ]
  },
  {
   "cell_type": "markdown",
   "metadata": {},
   "source": [
    "# regular spiking cell (RS)\n"
   ]
  },
  {
   "cell_type": "code",
   "execution_count": null,
   "metadata": {},
   "outputs": [],
   "source": [
    "attrs = {}\n",
    "attrs['c'] = -50\n",
    "attrs['vr'] = -60\n",
    "attrs['vt'] = -40\n",
    "attrs['vpeak'] = 35\n",
    "\n",
    "\n",
    "attrs['C'] = 100E-4\n",
    "attrs['k'] = 0.7E-4\n",
    "attrs['a'] = 0.03E-4\n",
    "attrs['b'] = -2E-4\n",
    "attrs['d'] = 100E-4\n",
    "\n",
    "\n",
    "\n",
    "DELAY = 100 \n",
    "DURATION = 800\n",
    "dtc.attrs = attrs\n",
    "\n",
    "neuron = None\n",
    "\n",
    "modelrs = ReducedModel(path_params['model_path'],name = str('regular_spiking'),backend =('OTHER',{'DTC':dtc}))\n",
    "\n",
    "params = {'injected_square_current':\n",
    "            {'amplitude': 21.0*pq.pA, 'delay':DELAY, 'duration':DURATION}}\n",
    "\n",
    "modelrs.inject_square_current(params)\n",
    "n_spikes = modelrs.get_spike_count()\n",
    "print(n_spikes)\n",
    "vmrs = modelrs.get_membrane_potential()\n",
    "\n"
   ]
  },
  {
   "cell_type": "code",
   "execution_count": null,
   "metadata": {},
   "outputs": [],
   "source": [
    "\n",
    "modelrs2 = ReducedModel(path_params['model_path'],name = str('regular_spiking'),backend =('NEURON',{'DTC':dtc}))\n",
    "\n",
    "params = {'injected_square_current':\n",
    "            {'amplitude': 11.0*pq.pA, 'delay':DELAY, 'duration':DURATION}}\n",
    "\n",
    "modelrs2.inject_square_current(params)\n",
    "n_spikes = modelrs2.get_spike_count()\n",
    "vmrs2 = modelrs2.get_membrane_potential()\n",
    "print(n_spikes)\n",
    "\n"
   ]
  },
  {
   "cell_type": "code",
   "execution_count": null,
   "metadata": {},
   "outputs": [],
   "source": [
    "\n",
    "\n",
    "\n",
    "\n",
    "\n"
   ]
  },
  {
   "cell_type": "code",
   "execution_count": null,
   "metadata": {},
   "outputs": [],
   "source": [
    "plt = plot(vmrs2,plt)\n",
    "plt.show()\n",
    "\n"
   ]
  },
  {
   "cell_type": "markdown",
   "metadata": {},
   "source": [
    "Chattering\n"
   ]
  },
  {
   "cell_type": "code",
   "execution_count": null,
   "metadata": {},
   "outputs": [],
   "source": [
    "plt.clf()\n",
    "plt = plot(vmrs,plt)\n",
    "plt.show()\n",
    "\n"
   ]
  },
  {
   "cell_type": "code",
   "execution_count": null,
   "metadata": {},
   "outputs": [],
   "source": [
    "#C = 50     vr = -60     vt = -40     k = 1.5    \n",
    "#a = 0.03     b = 1     c = -40     d = 150     vPeak = 35  \n",
    "\n",
    "attrs['vr'] = -60\n",
    "attrs['vt'] = -40\n",
    "attrs['c'] = -40\n",
    "attrs['vpeak'] = 35\n",
    "\n",
    "\n",
    "\n",
    "\n",
    "attrs['C'] = 50E-4\n",
    "attrs['k'] = 1.5E-4\n",
    "attrs['a'] = 0.03E-4\n",
    "attrs['b'] = 1E-4\n",
    "attrs['d'] = 150E-4\n",
    "\n",
    "\n",
    "\n",
    "\n",
    "modelch = ReducedModel(path_params['model_path'],name = str('chattering'),backend =('NEURON',{'DTC':dtc}))\n",
    "\n",
    "params = {'injected_square_current':\n",
    "            {'amplitude': 300*pq.pA, 'delay':DELAY, 'duration':DURATION}}\n",
    "\n",
    "modelch.inject_square_current(params)\n",
    "n_spikes = modelch.get_spike_count()\n",
    "vmch = modelch.get_membrane_potential()\n",
    "print(n_spikes)\n",
    "\n",
    "plt = plot(vmch,plt)\n",
    "plt.show()\n",
    "\n",
    "\n"
   ]
  },
  {
   "cell_type": "code",
   "execution_count": null,
   "metadata": {},
   "outputs": [],
   "source": [
    "'''\n",
    "\n",
    "x                       % time step  [ms]\n",
    " \n",
    "http://www.physics.usyd.edu.au/teach_res/mp/ns/doc/nsIzhikevich3.htm\n",
    "https://www.izhikevich.org/publications/izhikevich.m\n",
    "pars=[0.02      0.2     -65      6       14 ;...    % tonic spiking\n",
    "      0.02      0.25    -65      6       0.5 ;...   % phasic spiking\n",
    "      0.02      0.2     -50      2       15 ;...    % tonic bursting\n",
    "      0.02      0.25    -55     0.05     0.6 ;...   % phasic bursting\n",
    "      0.02      0.2     -55     4        10 ;...    % mixed mode\n",
    "      0.01      0.2     -65     8        30 ;...    % spike frequency adaptation\n",
    "      0.02      -0.1    -55     6        0  ;...    % Class 1\n",
    "      0.2       0.26    -65     0        0  ;...    % Class 2\n",
    "      0.02      0.2     -65     6        7  ;...    % spike latency\n",
    "      0.05      0.26    -60     0        0  ;...    % subthreshold oscillations\n",
    "      0.1       0.26    -60     -1       0  ;...    % resonator\n",
    "      0.02      -0.1    -55     6        0  ;...    % integrator\n",
    "      0.03      0.25    -60     4        0;...      % rebound spike\n",
    "      0.03      0.25    -52     0        0;...      % rebound burst\n",
    "      0.03      0.25    -60     4        0  ;...    % threshold variability\n",
    "      1         1.5     -60     0      -65  ;...    % bistability\n",
    "        1       0.2     -60     -21      0  ;...    % DAP\n",
    "      0.02      1       -55     4        0  ;...    % accomodation\n",
    "     -0.02      -1      -60     8        80 ;...    % inhibition-induced spiking\n",
    "     -0.026     -1      -45     0        80];       % inhibition-induced bursting\n",
    "\n",
    "a=pars(1,1);\n",
    "b=pars(1,2);\n",
    "c=pars(1,3);\n",
    "d=pars(1,4);\n",
    "I=pars(1,5);\n",
    "   \n",
    "\n",
    "\n",
    "figNumber = figure(1);\n",
    "clf;\n",
    "set(figNumber,'NumberTitle','off','doublebuffer','on',...\n",
    "        'Name','Simple Model by Izhikevich (2003)',...\n",
    "        'Units','normalized','toolbar','figure',...\n",
    "        'Position',[0.05 0.1 0.9 0.8]);\n",
    "h1=subplot(4,2,1);\n",
    "set(h1,'Position',[0.05 0.75 0.27 0.2])\n",
    "vtrace=line('color','k','LineStyle','-','erase','background','xdata',[],'ydata',[],'zdata',[]);\n",
    "axis([0 100 -100 30])\n",
    "title('membrane potential, v')\n",
    "xlabel('time (ms)');\n",
    "'''"
   ]
  },
  {
   "cell_type": "code",
   "execution_count": null,
   "metadata": {},
   "outputs": [],
   "source": []
  },
  {
   "cell_type": "code",
   "execution_count": null,
   "metadata": {},
   "outputs": [],
   "source": []
  },
  {
   "cell_type": "code",
   "execution_count": null,
   "metadata": {},
   "outputs": [],
   "source": []
  },
  {
   "cell_type": "code",
   "execution_count": null,
   "metadata": {},
   "outputs": [],
   "source": []
  },
  {
   "cell_type": "code",
   "execution_count": null,
   "metadata": {},
   "outputs": [],
   "source": []
  },
  {
   "cell_type": "code",
   "execution_count": null,
   "metadata": {},
   "outputs": [],
   "source": []
  },
  {
   "cell_type": "code",
   "execution_count": null,
   "metadata": {},
   "outputs": [],
   "source": []
  }
 ],
 "metadata": {
  "kernelspec": {
   "display_name": "Python 3",
   "language": "python",
   "name": "python3"
  },
  "language_info": {
   "codemirror_mode": {
    "name": "ipython",
    "version": 3
   },
   "file_extension": ".py",
   "mimetype": "text/x-python",
   "name": "python",
   "nbconvert_exporter": "python",
   "pygments_lexer": "ipython3",
   "version": "3.6.4"
  }
 },
 "nbformat": 4,
 "nbformat_minor": 2
}
