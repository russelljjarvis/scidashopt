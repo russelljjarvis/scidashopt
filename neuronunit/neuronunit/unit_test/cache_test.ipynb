{
 "cells": [
  {
   "cell_type": "code",
   "execution_count": 1,
   "metadata": {
    "collapsed": true
   },
   "outputs": [],
   "source": [
    "from neuronunit.models.reduced import ReducedModel"
   ]
  },
  {
   "cell_type": "code",
   "execution_count": 2,
   "metadata": {},
   "outputs": [],
   "source": [
    "x = ReducedModel('/Users/rgerkin/Dropbox (ASU)/dev/scidash/neuronunit/neuronunit/models/NeuroML2/LEMS_2007One.xml',\n",
    "                 backend='jNeuroML')"
   ]
  },
  {
   "cell_type": "code",
   "execution_count": 3,
   "metadata": {},
   "outputs": [
    {
     "name": "stdout",
     "output_type": "stream",
     "text": [
      "CPU times: user 1.17 s, sys: 36.6 ms, total: 1.2 s\n",
      "Wall time: 3.8 s\n"
     ]
    }
   ],
   "source": [
    "%time x.run() # Runs slow because the model is brand new"
   ]
  },
  {
   "cell_type": "code",
   "execution_count": 4,
   "metadata": {},
   "outputs": [
    {
     "name": "stdout",
     "output_type": "stream",
     "text": [
      "CPU times: user 1.65 ms, sys: 1.51 ms, total: 3.17 ms\n",
      "Wall time: 12.3 ms\n"
     ]
    }
   ],
   "source": [
    "%time x.run() # Runs fast because it looks up the result in the memory cache"
   ]
  },
  {
   "cell_type": "code",
   "execution_count": 5,
   "metadata": {},
   "outputs": [],
   "source": [
    "x.get_backend().use_memory_cache = False # Turn off the memory cache"
   ]
  },
  {
   "cell_type": "code",
   "execution_count": 6,
   "metadata": {},
   "outputs": [
    {
     "name": "stdout",
     "output_type": "stream",
     "text": [
      "CPU times: user 1.1 s, sys: 40.7 ms, total: 1.14 s\n",
      "Wall time: 3.76 s\n"
     ]
    }
   ],
   "source": [
    "%time x.run() # Runs slow because it isn't allowed to use the memory cache and so has to run from scratch"
   ]
  },
  {
   "cell_type": "code",
   "execution_count": 7,
   "metadata": {
    "collapsed": true
   },
   "outputs": [],
   "source": [
    "x.get_backend().use_disk_cache = True # Turn on the disk cache"
   ]
  },
  {
   "cell_type": "code",
   "execution_count": 8,
   "metadata": {},
   "outputs": [
    {
     "name": "stdout",
     "output_type": "stream",
     "text": [
      "CPU times: user 1.22 s, sys: 121 ms, total: 1.34 s\n",
      "Wall time: 4.01 s\n"
     ]
    }
   ],
   "source": [
    "%time x.run() # Still runs slow because it hasn't had a chance to get stored in the disk cache yet"
   ]
  },
  {
   "cell_type": "code",
   "execution_count": 9,
   "metadata": {},
   "outputs": [
    {
     "name": "stdout",
     "output_type": "stream",
     "text": [
      "CPU times: user 385 ms, sys: 53.4 ms, total: 438 ms\n",
      "Wall time: 439 ms\n"
     ]
    }
   ],
   "source": [
    "%time x.run() # Runs medium because the disk cache is faster than running from scratch (but slower than the memory cache)"
   ]
  }
 ],
 "metadata": {
  "kernelspec": {
   "display_name": "Python 3",
   "language": "python",
   "name": "python3"
  },
  "language_info": {
   "codemirror_mode": {
    "name": "ipython",
    "version": 3
   },
   "file_extension": ".py",
   "mimetype": "text/x-python",
   "name": "python",
   "nbconvert_exporter": "python",
   "pygments_lexer": "ipython3",
   "version": "3.6.4"
  }
 },
 "nbformat": 4,
 "nbformat_minor": 2
}
