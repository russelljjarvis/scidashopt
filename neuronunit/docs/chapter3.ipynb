{
 "cells": [
  {
   "cell_type": "markdown",
   "metadata": {
    "deletable": true,
    "editable": true
   },
   "source": [
    "![NeuronUnit Logo](https://raw.githubusercontent.com/scidash/assets/master/logos/neuronunit-logo-text.png)\n",
    "# Chapter 3\n",
    "Back to [Chapter 2](chapter2.ipynb)"
   ]
  },
  {
   "cell_type": "markdown",
   "metadata": {
    "deletable": true,
    "editable": true
   },
   "source": [
    "In the second chapter we tested a real ion channel model using data from the [OpenWorm](http://openworm.org) project.  Here we'll test a reduced neuron model using data from the [NeuroElectro](http://neuroelectro.org) project and from the [Allen Brain Institute Cell Types](http://celltypes.brain-map.org) database.  \n",
    "### We'll test an Izhikevich model against data from a Layer V pyramidal cell in primary visual cortex"
   ]
  },
  {
   "cell_type": "code",
   "execution_count": 1,
   "metadata": {
    "collapsed": false,
    "deletable": true,
    "editable": true
   },
   "outputs": [
    {
     "name": "stderr",
     "output_type": "stream",
     "text": [
      "/Users/rgerkin/Dropbox/miniconda3/lib/python3.5/site-packages/pyNN/neuron/__init__.py:14: UserWarning: mpi4py not available\n",
      "  warnings.warn(\"mpi4py not available\")\n"
     ]
    }
   ],
   "source": [
    "%matplotlib inline\n",
    "import os,sys\n",
    "import numpy as np\n",
    "import matplotlib.pyplot as plt\n",
    "import quantities as pq\n",
    "import sciunit\n",
    "import neuronunit\n",
    "from neuronunit import aibs\n",
    "from neuronunit.models.reduced import ReducedModel"
   ]
  },
  {
   "cell_type": "code",
   "execution_count": 2,
   "metadata": {
    "collapsed": false,
    "deletable": true,
    "editable": true
   },
   "outputs": [
    {
     "name": "stdout",
     "output_type": "stream",
     "text": [
      "Getting Rheobase cached data value for from AIBS dataset 354190013\n",
      "Getting Input Resistance data values from neuroelectro.org\n",
      "{'nlex': 'nifext_50', 'e__name': 'Input Resistance', 'e': None, 'n__name': None, 'n': None}\n",
      "http://www.neuroelectro.org/api/1/nes/?nlex=nifext_50&e__name=Input+Resistance\n",
      "Getting Membrane Time Constant data values from neuroelectro.org\n",
      "{'nlex': 'nifext_50', 'e__name': 'Membrane Time Constant', 'e': None, 'n__name': None, 'n': None}\n",
      "http://www.neuroelectro.org/api/1/nes/?nlex=nifext_50&e__name=Membrane+Time+Constant\n",
      "Getting Cell Capacitance data values from neuroelectro.org\n",
      "{'nlex': 'nifext_50', 'e__name': 'Cell Capacitance', 'e': None, 'n__name': None, 'n': None}\n",
      "http://www.neuroelectro.org/api/1/nes/?nlex=nifext_50&e__name=Cell+Capacitance\n",
      "Getting Resting membrane potential data values from neuroelectro.org\n",
      "{'nlex': 'nifext_50', 'e__name': 'Resting membrane potential', 'e': None, 'n__name': None, 'n': None}\n",
      "http://www.neuroelectro.org/api/1/nes/?nlex=nifext_50&e__name=Resting+membrane+potential\n",
      "Getting Spike Half-Width data values from neuroelectro.org\n",
      "{'nlex': 'nifext_50', 'e__name': 'Spike Half-Width', 'e': None, 'n__name': None, 'n': None}\n",
      "http://www.neuroelectro.org/api/1/nes/?nlex=nifext_50&e__name=Spike+Half-Width\n",
      "Getting Spike Amplitude data values from neuroelectro.org\n",
      "{'nlex': 'nifext_50', 'e__name': 'Spike Amplitude', 'e': None, 'n__name': None, 'n': None}\n",
      "http://www.neuroelectro.org/api/1/nes/?nlex=nifext_50&e__name=Spike+Amplitude\n",
      "Getting Spike Threshold data values from neuroelectro.org\n",
      "{'nlex': 'nifext_50', 'e__name': 'Spike Threshold', 'e': None, 'n__name': None, 'n': None}\n",
      "http://www.neuroelectro.org/api/1/nes/?nlex=nifext_50&e__name=Spike+Threshold\n"
     ]
    }
   ],
   "source": [
    "import quantities as pq\n",
    "from neuronunit import tests as nu_tests, neuroelectro\n",
    "neuron = {'nlex_id': 'nifext_50'} # Layer V pyramidal cell\n",
    "tests = []\n",
    "\n",
    "dataset_id = 354190013  # Internal ID that AIBS uses for a particular Scnn1a-Tg2-Cre \n",
    "                        # Primary visual area, layer 5 neuron.\n",
    "    \n",
    "# Obtain the empirical rheobase current from the Allen Brain Insitute Cell Types database.  \n",
    "observation = aibs.get_observation(dataset_id,'rheobase')\n",
    "rheobase_test = nu_tests.RheobaseTest(observation=observation)\n",
    "tests += [rheobase_test]\n",
    "    \n",
    "test_class_params = [(nu_tests.InputResistanceTest,None),\n",
    "                     (nu_tests.TimeConstantTest,None),\n",
    "                     (nu_tests.CapacitanceTest,None),\n",
    "                     (nu_tests.RestingPotentialTest,None),\n",
    "                     (nu_tests.InjectedCurrentAPWidthTest,None),\n",
    "                     (nu_tests.InjectedCurrentAPAmplitudeTest,None),\n",
    "                     (nu_tests.InjectedCurrentAPThresholdTest,None)\n",
    "                    ]\n",
    "\n",
    "# Obtain all other parameters from neuroelectro.org.\n",
    "for cls,params in test_class_params:\n",
    "    observation = cls.neuroelectro_summary_observation(neuron)\n",
    "    tests += [cls(observation,params=params)]\n",
    "    \n",
    "# A hook to update all tests after the RheobaseTest to use the rheobase current (to produce exactly one AP)\n",
    "def update_amplitude(test,tests,score):\n",
    "    rheobase = score.prediction['value']\n",
    "    for test in tests[1:]:\n",
    "        if 'Injected' in test.name:\n",
    "            # Set current injection to just suprathreshold\n",
    "            test.params['injected_square_current']['amplitude'] = rheobase*1.01 \n",
    "    \n",
    "hooks = {tests[0]:{'f':update_amplitude}}\n",
    "suite = sciunit.TestSuite(tests,name=\"vm_suite\",hooks=hooks)"
   ]
  },
  {
   "cell_type": "markdown",
   "metadata": {
    "deletable": true,
    "editable": true
   },
   "source": [
    "### The Izhikevich model here is defined in an NeuroML2/LEMS file.  \n",
    "### We will run it using the jNeuroML backend for simplicity, although this is *much* slower than the native NEURON backend.  "
   ]
  },
  {
   "cell_type": "code",
   "execution_count": 3,
   "metadata": {
    "collapsed": false,
    "deletable": true,
    "editable": true
   },
   "outputs": [],
   "source": [
    "# This example is from https://github.com/OpenSourceBrain/IzhikevichModel.\n",
    "for rel_path in ['.','docs','../docs']:\n",
    "    # Check to see if this is the neuronunit/docs directory.\n",
    "    DOCS_PATH = os.path.abspath(os.path.join(os.getcwd(),rel_path)) \n",
    "    if DOCS_PATH.endswith('neuronunit/docs'):\n",
    "        break\n",
    "assert DOCS_PATH.endswith('neuronunit/docs'), (\"Could not find the path to neuronunit/docs. \"\n",
    "                                               \"Change the DOCS_PATH variable to the path to \"\n",
    "                                               \"your neuronunit/docs directory.\")\n",
    "LEMS_MODEL_PATH = os.path.join(DOCS_PATH,'data/NeuroML2/LEMS_2007One.xml')\n",
    "model = ReducedModel(LEMS_MODEL_PATH,name='vanilla',backend='jNeuroML')"
   ]
  },
  {
   "cell_type": "markdown",
   "metadata": {
    "deletable": true,
    "editable": true
   },
   "source": [
    "### Run a series of tests.  The RheobaseTest is run first to obtain the rheobase current to use in all the other tests."
   ]
  },
  {
   "cell_type": "code",
   "execution_count": 4,
   "metadata": {
    "collapsed": false,
    "deletable": true,
    "editable": true
   },
   "outputs": [
    {
     "data": {
      "text/html": [
       "Executing test <i>RheobaseTest</i> on model <i>vanilla</i>... "
      ],
      "text/plain": [
       "<IPython.core.display.HTML object>"
      ]
     },
     "metadata": {},
     "output_type": "display_data"
    },
    {
     "name": "stdout",
     "output_type": "stream",
     "text": [
      "Injected 300.0 current and got 17 spikes\n",
      "Injected -0.0 current and got 0 spikes\n",
      "Injected 150.0 current and got 8 spikes\n",
      "Injected 75.0 current and got 2 spikes\n",
      "Injected 37.5 current and got 0 spikes\n",
      "Injected 56.25 current and got 1 spikes\n",
      "Injected 46.875 current and got 0 spikes\n",
      "Injected 51.5625 current and got 0 spikes\n",
      "Injected 53.90625 current and got 0 spikes\n",
      "Injected 55.078125 current and got 1 spikes\n",
      "Injected 54.4921875 current and got 0 spikes\n",
      "Highest subthreshold current is 54.49 pA\n",
      "Lowest suprathreshold current is 55.08 pA\n"
     ]
    },
    {
     "data": {
      "text/html": [
       "Score is <a style=\"color: rgb(193,229,123)\">Ratio = 0.42</a>\n"
      ],
      "text/plain": [
       "<IPython.core.display.HTML object>"
      ]
     },
     "metadata": {},
     "output_type": "display_data"
    },
    {
     "data": {
      "text/html": [
       "Executing test <i>InputResistanceTest</i> on model <i>vanilla</i>... "
      ],
      "text/plain": [
       "<IPython.core.display.HTML object>"
      ]
     },
     "metadata": {},
     "output_type": "display_data"
    },
    {
     "data": {
      "text/html": [
       "Score is <a style=\"color: rgb(232,246,160)\">Z = -0.55</a>\n"
      ],
      "text/plain": [
       "<IPython.core.display.HTML object>"
      ]
     },
     "metadata": {},
     "output_type": "display_data"
    },
    {
     "data": {
      "text/html": [
       "Executing test <i>TimeConstantTest</i> on model <i>vanilla</i>... "
      ],
      "text/plain": [
       "<IPython.core.display.HTML object>"
      ]
     },
     "metadata": {},
     "output_type": "display_data"
    },
    {
     "data": {
      "text/html": [
       "Score is <a style=\"color: rgb(250,152,87)\">Z = -1.38</a>\n"
      ],
      "text/plain": [
       "<IPython.core.display.HTML object>"
      ]
     },
     "metadata": {},
     "output_type": "display_data"
    },
    {
     "data": {
      "text/html": [
       "Executing test <i>CapacitanceTest</i> on model <i>vanilla</i>... "
      ],
      "text/plain": [
       "<IPython.core.display.HTML object>"
      ]
     },
     "metadata": {},
     "output_type": "display_data"
    },
    {
     "data": {
      "text/html": [
       "Score is <a style=\"color: rgb(235,247,164)\">Z = -0.56</a>\n"
      ],
      "text/plain": [
       "<IPython.core.display.HTML object>"
      ]
     },
     "metadata": {},
     "output_type": "display_data"
    },
    {
     "data": {
      "text/html": [
       "Executing test <i>RestingPotentialTest</i> on model <i>vanilla</i>... "
      ],
      "text/plain": [
       "<IPython.core.display.HTML object>"
      ]
     },
     "metadata": {},
     "output_type": "display_data"
    },
    {
     "data": {
      "text/html": [
       "Score is <a style=\"color: rgb(253,170,95)\">Z = 1.26</a>\n"
      ],
      "text/plain": [
       "<IPython.core.display.HTML object>"
      ]
     },
     "metadata": {},
     "output_type": "display_data"
    },
    {
     "data": {
      "text/html": [
       "Executing test <i>InjectedCurrentAPWidthTest</i> on model <i>vanilla</i>... "
      ],
      "text/plain": [
       "<IPython.core.display.HTML object>"
      ]
     },
     "metadata": {},
     "output_type": "display_data"
    },
    {
     "data": {
      "text/html": [
       "Score is <a style=\"color: rgb(244,251,176)\">Z = -0.61</a>\n"
      ],
      "text/plain": [
       "<IPython.core.display.HTML object>"
      ]
     },
     "metadata": {},
     "output_type": "display_data"
    },
    {
     "data": {
      "text/html": [
       "Executing test <i>InjectedCurrentAPAmplitudeTest</i> on model <i>vanilla</i>... "
      ],
      "text/plain": [
       "<IPython.core.display.HTML object>"
      ]
     },
     "metadata": {},
     "output_type": "display_data"
    },
    {
     "data": {
      "text/html": [
       "Score is <a style=\"color: rgb(249,140,81)\">Z = -1.47</a>\n"
      ],
      "text/plain": [
       "<IPython.core.display.HTML object>"
      ]
     },
     "metadata": {},
     "output_type": "display_data"
    },
    {
     "data": {
      "text/html": [
       "Executing test <i>InjectedCurrentAPThresholdTest</i> on model <i>vanilla</i>... "
      ],
      "text/plain": [
       "<IPython.core.display.HTML object>"
      ]
     },
     "metadata": {},
     "output_type": "display_data"
    },
    {
     "data": {
      "text/html": [
       "Score is <a style=\"color: rgb(233,85,56)\">Z = 2.38</a>\n"
      ],
      "text/plain": [
       "<IPython.core.display.HTML object>"
      ]
     },
     "metadata": {},
     "output_type": "display_data"
    }
   ],
   "source": [
    "score_matrix = suite.judge(model)"
   ]
  },
  {
   "cell_type": "markdown",
   "metadata": {
    "deletable": true,
    "editable": true
   },
   "source": [
    "### Now we can sweep across a parameter (the resting potential) and run the same test suite on a model corresponding to each value of this parameter."
   ]
  },
  {
   "cell_type": "code",
   "execution_count": null,
   "metadata": {
    "collapsed": false,
    "deletable": true,
    "editable": true
   },
   "outputs": [],
   "source": [
    "models = []\n",
    "for vr in np.linspace(-80,-50,4):\n",
    "    model = ReducedModel(LEMS_MODEL_PATH, \n",
    "                         name='V_rest=%dmV' % vr, \n",
    "                         attrs={'//izhikevich2007Cell':\n",
    "                                    {'vr':'%d mV' % vr}\n",
    "                               })\n",
    "    #model.skip_run = True\n",
    "    models.append(model)\n",
    "suite.set_verbose(False) # Turn off most print statements.  \n",
    "score_matrix = suite.judge(models)"
   ]
  },
  {
   "cell_type": "code",
   "execution_count": null,
   "metadata": {
    "collapsed": false,
    "deletable": true,
    "editable": true
   },
   "outputs": [],
   "source": [
    "score_matrix.show_mean = True # Show the mean value across test scores. \n",
    "                              # The mean is computed using the sort_key attribute, which is in the range [0,1] for\n",
    "                              # all Score types\n",
    "score_matrix.sortable = True # Make the ScoreMatrix sortable (and searchable)\n",
    "score_matrix"
   ]
  },
  {
   "cell_type": "markdown",
   "metadata": {
    "deletable": true,
    "editable": true
   },
   "source": [
    "### Let's take a look at a sweep from one of these models ($V_{rest} = -55 mV$) obtained at the rheobase current.  "
   ]
  },
  {
   "cell_type": "code",
   "execution_count": null,
   "metadata": {
    "collapsed": false,
    "deletable": true,
    "editable": true
   },
   "outputs": [],
   "source": [
    "import matplotlib as mpl\n",
    "mpl.rcParams['font.size'] = 18\n",
    "score_matrix['RheobaseTest']['V_rest=-60mV'].plot_vm() # Plot the rheobase current from the model with V_rest = -60 mV"
   ]
  }
 ],
 "metadata": {
  "kernelspec": {
   "display_name": "Python 3",
   "language": "python",
   "name": "python3"
  },
  "language_info": {
   "codemirror_mode": {
    "name": "ipython",
    "version": 3
   },
   "file_extension": ".py",
   "mimetype": "text/x-python",
   "name": "python",
   "nbconvert_exporter": "python",
   "pygments_lexer": "ipython3",
   "version": "3.5.2"
  }
 },
 "nbformat": 4,
 "nbformat_minor": 2
}
